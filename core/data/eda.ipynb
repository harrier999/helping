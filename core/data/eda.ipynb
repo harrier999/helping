{
 "cells": [
  {
   "cell_type": "code",
   "execution_count": 1,
   "metadata": {},
   "outputs": [],
   "source": [
    "import pickle\n",
    "f =  open('data.pkl', 'rb')\n",
    "data = pickle.load(f)\n",
    "\n",
    "items = data.items()\n",
    "# for key, val in items:\n",
    "#     print(\"-----------key----------\")\n",
    "#     print(key)\n",
    "#     print(\"-----------key----------\")\n",
    "#     print(\"-----------val----------\")\n",
    "#     print(val)\n",
    "#     print(\"-----------val----------\")\n"
   ]
  },
  {
   "cell_type": "code",
   "execution_count": 2,
   "metadata": {},
   "outputs": [],
   "source": [
    "doc = dict()\n",
    "nested_doc: dict[str, list] = dict()\n",
    "for key, val in items:\n",
    "    sentences = val.split(\"\\n\")\n",
    "    pure_sentences = list()\n",
    "    for i, sentence in enumerate(sentences):\n",
    "        if sentence in (\"위 도움말이 도움이 되었나요?\", \"별점1점\", \"별점2점\", \"별점3점\", \"별점4점\", \"별점5점\", \"소중한 의견을 남겨주시면 보완하도록 노력하겠습니다.\", \"보내기\", \"도움말 닫기\"):\n",
    "            continue\n",
    "        elif sentence == \"관련 도움말/키워드\":\n",
    "            for nested_key in sentences[i+1:]:\n",
    "                if nested_key in data:\n",
    "                    s = nested_doc.get(key)\n",
    "                    if s is None:\n",
    "                        nested_doc[key] = list()\n",
    "                    nested_doc[key].append(nested_key)\n",
    "            break\n",
    "        else:\n",
    "            if sentence == \"\":\n",
    "                continue\n",
    "            pure_sentences.append(sentence)\n",
    "    \n",
    "    doc[key]= \"\\n\".join(pure_sentences)\n",
    "    \n",
    "            \n",
    "            \n",
    "        \n",
    "                    \n"
   ]
  },
  {
   "cell_type": "code",
   "execution_count": null,
   "metadata": {},
   "outputs": [],
   "source": [
    "for key, val in doc.items():\n",
    "    print(key)\n",
    "    print(val)"
   ]
  },
  {
   "cell_type": "code",
   "execution_count": 4,
   "metadata": {},
   "outputs": [],
   "source": [
    "\n",
    "combined_doc = doc.copy()\n",
    "for key, val in doc.items():\n",
    "    if key in nested_doc:\n",
    "        for d in nested_doc[key]:\n",
    "            combined_doc[key] += (\"\\n\" + doc[d])\n",
    "            "
   ]
  },
  {
   "cell_type": "code",
   "execution_count": null,
   "metadata": {},
   "outputs": [],
   "source": [
    "for key, val in combined_doc.items():\n",
    "    print(key)\n",
    "    print(val)"
   ]
  },
  {
   "cell_type": "code",
   "execution_count": 9,
   "metadata": {},
   "outputs": [],
   "source": [
    "with open('refined_data.pkl', 'wb') as f:\n",
    "\tpickle.dump(combined_doc, f, protocol=pickle.HIGHEST_PROTOCOL)"
   ]
  },
  {
   "cell_type": "code",
   "execution_count": null,
   "metadata": {},
   "outputs": [],
   "source": [
    "with open('refined_data.pkl', 'rb') as f:\n",
    "\td = pickle.load(f)\n",
    " \n",
    "for key, val in d.items():\n",
    "    print(key)\n",
    "    \n",
    "    print(val)\n",
    "    print(\"-----------------\")"
   ]
  },
  {
   "cell_type": "code",
   "execution_count": null,
   "metadata": {},
   "outputs": [],
   "source": []
  }
 ],
 "metadata": {
  "kernelspec": {
   "display_name": ".venv",
   "language": "python",
   "name": "python3"
  },
  "language_info": {
   "codemirror_mode": {
    "name": "ipython",
    "version": 3
   },
   "file_extension": ".py",
   "mimetype": "text/x-python",
   "name": "python",
   "nbconvert_exporter": "python",
   "pygments_lexer": "ipython3",
   "version": "3.10.12"
  }
 },
 "nbformat": 4,
 "nbformat_minor": 2
}
